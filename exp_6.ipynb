{
  "nbformat": 4,
  "nbformat_minor": 0,
  "metadata": {
    "colab": {
      "provenance": [],
      "authorship_tag": "ABX9TyMpfNQScQm/MZbKsWNqkbYQ",
      "include_colab_link": true
    },
    "kernelspec": {
      "name": "python3",
      "display_name": "Python 3"
    },
    "language_info": {
      "name": "python"
    }
  },
  "cells": [
    {
      "cell_type": "markdown",
      "metadata": {
        "id": "view-in-github",
        "colab_type": "text"
      },
      "source": [
        "<a href=\"https://colab.research.google.com/github/Harindra333/Adv-DL-Lab-exp/blob/main/exp_6.ipynb\" target=\"_parent\"><img src=\"https://colab.research.google.com/assets/colab-badge.svg\" alt=\"Open In Colab\"/></a>"
      ]
    },
    {
      "cell_type": "code",
      "execution_count": 1,
      "metadata": {
        "colab": {
          "base_uri": "https://localhost:8080/"
        },
        "id": "qCwtNc2u7Z5x",
        "outputId": "7ebfd745-0839-41e0-98cf-bd069b4f6f06"
      },
      "outputs": [
        {
          "output_type": "stream",
          "name": "stdout",
          "text": [
            "Epoch 1/10\n",
            "4/4 [==============================] - 4s 26ms/step - loss: 1.3082\n",
            "Epoch 2/10\n",
            "4/4 [==============================] - 0s 20ms/step - loss: 1.1560\n",
            "Epoch 3/10\n",
            "4/4 [==============================] - 0s 17ms/step - loss: 1.0672\n",
            "Epoch 4/10\n",
            "4/4 [==============================] - 0s 23ms/step - loss: 1.0245\n",
            "Epoch 5/10\n",
            "4/4 [==============================] - 0s 16ms/step - loss: 0.9776\n",
            "Epoch 6/10\n",
            "4/4 [==============================] - 0s 12ms/step - loss: 0.9449\n",
            "Epoch 7/10\n",
            "4/4 [==============================] - 0s 19ms/step - loss: 0.9201\n",
            "Epoch 8/10\n",
            "4/4 [==============================] - 0s 14ms/step - loss: 0.9001\n",
            "Epoch 9/10\n",
            "4/4 [==============================] - 0s 17ms/step - loss: 0.8848\n",
            "Epoch 10/10\n",
            "4/4 [==============================] - 0s 15ms/step - loss: 0.8623\n",
            "1/1 [==============================] - 1s 1s/step - loss: 1.3362\n"
          ]
        },
        {
          "output_type": "execute_result",
          "data": {
            "text/plain": [
              "1.3361562490463257"
            ]
          },
          "metadata": {},
          "execution_count": 1
        }
      ],
      "source": [
        "import tensorflow as tf\n",
        "from tensorflow import keras\n",
        "input_shape = (10, 1)\n",
        "model = keras.Sequential([\n",
        "    keras.layers.SimpleRNN(32, input_shape=input_shape),\n",
        "    keras.layers.Dense(1)\n",
        "])\n",
        "model.compile(optimizer='adam', loss='mse')\n",
        "import numpy as np\n",
        "\n",
        "X_train = np.random.randn(100, 10, 1)\n",
        "y_train = np.random.randn(100, 1)\n",
        "\n",
        "model.fit(X_train, y_train, epochs=10, batch_size=32)\n",
        "X_test = np.random.randn(10, 10, 1)\n",
        "y_test = np.random.randn(10, 1)\n",
        "\n",
        "model.evaluate(X_test, y_test)\n",
        "\n"
      ]
    }
  ]
}