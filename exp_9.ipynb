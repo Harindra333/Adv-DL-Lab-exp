{
  "nbformat": 4,
  "nbformat_minor": 0,
  "metadata": {
    "colab": {
      "provenance": [],
      "authorship_tag": "ABX9TyM6RzncSx9l7B34IRSYIvIt",
      "include_colab_link": true
    },
    "kernelspec": {
      "name": "python3",
      "display_name": "Python 3"
    },
    "language_info": {
      "name": "python"
    }
  },
  "cells": [
    {
      "cell_type": "markdown",
      "metadata": {
        "id": "view-in-github",
        "colab_type": "text"
      },
      "source": [
        "<a href=\"https://colab.research.google.com/github/Harindra333/Adv-DL-Lab-exp/blob/main/exp_9.ipynb\" target=\"_parent\"><img src=\"https://colab.research.google.com/assets/colab-badge.svg\" alt=\"Open In Colab\"/></a>"
      ]
    },
    {
      "cell_type": "code",
      "execution_count": 1,
      "metadata": {
        "colab": {
          "base_uri": "https://localhost:8080/"
        },
        "id": "FqP2Zcrk88Kq",
        "outputId": "2766eb11-3847-47c1-8e0b-0841d14537e4"
      },
      "outputs": [
        {
          "output_type": "stream",
          "name": "stdout",
          "text": [
            "Downloading data from https://storage.googleapis.com/tensorflow/tf-keras-datasets/mnist.npz\n",
            "11490434/11490434 [==============================] - 0s 0us/step\n",
            "Epoch 1/10\n",
            "300/300 - 52s - loss: 0.3540 - accuracy: 0.8923 - val_loss: 0.0715 - val_accuracy: 0.9780 - 52s/epoch - 173ms/step\n",
            "Epoch 2/10\n",
            "300/300 - 44s - loss: 0.1081 - accuracy: 0.9683 - val_loss: 0.0462 - val_accuracy: 0.9848 - 44s/epoch - 146ms/step\n",
            "Epoch 3/10\n",
            "300/300 - 43s - loss: 0.0770 - accuracy: 0.9772 - val_loss: 0.0388 - val_accuracy: 0.9874 - 43s/epoch - 145ms/step\n",
            "Epoch 4/10\n",
            "300/300 - 44s - loss: 0.0641 - accuracy: 0.9811 - val_loss: 0.0331 - val_accuracy: 0.9883 - 44s/epoch - 145ms/step\n",
            "Epoch 5/10\n",
            "300/300 - 44s - loss: 0.0535 - accuracy: 0.9837 - val_loss: 0.0301 - val_accuracy: 0.9903 - 44s/epoch - 145ms/step\n",
            "Epoch 6/10\n",
            "300/300 - 43s - loss: 0.0453 - accuracy: 0.9863 - val_loss: 0.0269 - val_accuracy: 0.9905 - 43s/epoch - 144ms/step\n",
            "Epoch 7/10\n",
            "300/300 - 45s - loss: 0.0423 - accuracy: 0.9868 - val_loss: 0.0282 - val_accuracy: 0.9908 - 45s/epoch - 150ms/step\n",
            "Epoch 8/10\n",
            "300/300 - 43s - loss: 0.0374 - accuracy: 0.9885 - val_loss: 0.0224 - val_accuracy: 0.9929 - 43s/epoch - 142ms/step\n",
            "Epoch 9/10\n",
            "300/300 - 43s - loss: 0.0321 - accuracy: 0.9898 - val_loss: 0.0294 - val_accuracy: 0.9906 - 43s/epoch - 144ms/step\n",
            "Epoch 10/10\n",
            "300/300 - 42s - loss: 0.0310 - accuracy: 0.9901 - val_loss: 0.0266 - val_accuracy: 0.9920 - 42s/epoch - 141ms/step\n",
            "Test accuracy: 99.20%\n"
          ]
        }
      ],
      "source": [
        "import tensorflow as tf\n",
        "from tensorflow.keras.datasets import mnist\n",
        "from tensorflow.keras.models import Sequential\n",
        "from tensorflow.keras.layers import Conv2D, MaxPooling2D, Flatten, Dense, Dropout\n",
        "from tensorflow.keras.utils import to_categorical\n",
        "# Load and preprocess the dataset\n",
        "(x_train, y_train), (x_test, y_test) = mnist.load_data()\n",
        "x_train = x_train.reshape(x_train.shape[0], 28, 28, 1).astype('float32') / 255\n",
        "x_test = x_test.reshape(x_test.shape[0], 28, 28, 1).astype('float32') / 255\n",
        "y_train = to_categorical(y_train, 10)\n",
        "y_test = to_categorical(y_test, 10)\n",
        "# Build the CNN model\n",
        "model = Sequential()\n",
        "model.add(Conv2D(32, kernel_size=(3, 3), activation='relu',\n",
        "input_shape=(28, 28, 1)))\n",
        "model.add(MaxPooling2D(pool_size=(2, 2)))\n",
        "model.add(Conv2D(64, kernel_size=(3, 3), activation='relu'))\n",
        "model.add(MaxPooling2D(pool_size=(2, 2)))\n",
        "model.add(Flatten())\n",
        "model.add(Dense(128, activation='relu'))\n",
        "model.add(Dropout(0.5))\n",
        "model.add(Dense(10, activation='softmax'))\n",
        "# Compile the model\n",
        "model.compile(loss='categorical_crossentropy', optimizer='adam',\n",
        "metrics=['accuracy'])\n",
        "# Train the model\n",
        "model.fit(x_train, y_train, validation_data=(x_test, y_test), epochs=10,\n",
        "batch_size=200, verbose=2)\n",
        "# Evaluate the model\n",
        "test_loss, test_acc = model.evaluate(x_test, y_test, verbose=0)\n",
        "print(f'Test accuracy: {test_acc*100:.2f}%')\n",
        "\n"
      ]
    }
  ]
}