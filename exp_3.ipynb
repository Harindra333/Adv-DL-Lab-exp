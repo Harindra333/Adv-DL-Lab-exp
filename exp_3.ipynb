{
  "nbformat": 4,
  "nbformat_minor": 0,
  "metadata": {
    "colab": {
      "provenance": [],
      "authorship_tag": "ABX9TyOot8Y2f2Ai7vZ65i5zjqOu",
      "include_colab_link": true
    },
    "kernelspec": {
      "name": "python3",
      "display_name": "Python 3"
    },
    "language_info": {
      "name": "python"
    }
  },
  "cells": [
    {
      "cell_type": "markdown",
      "metadata": {
        "id": "view-in-github",
        "colab_type": "text"
      },
      "source": [
        "<a href=\"https://colab.research.google.com/github/Harindra333/Adv-DL-Lab-exp/blob/main/exp_3.ipynb\" target=\"_parent\"><img src=\"https://colab.research.google.com/assets/colab-badge.svg\" alt=\"Open In Colab\"/></a>"
      ]
    },
    {
      "cell_type": "code",
      "execution_count": 1,
      "metadata": {
        "colab": {
          "base_uri": "https://localhost:8080/"
        },
        "id": "qeEax31f2hKh",
        "outputId": "416a5e09-d2e2-42f0-b586-ca500580a23c"
      },
      "outputs": [
        {
          "output_type": "stream",
          "name": "stdout",
          "text": [
            "Epoch 1/10\n",
            "20/20 [==============================] - 3s 52ms/step - loss: 0.6801 - accuracy: 0.7063 - val_loss: 0.6595 - val_accuracy: 0.6250\n",
            "Epoch 2/10\n",
            "20/20 [==============================] - 0s 15ms/step - loss: 0.6583 - accuracy: 0.5469 - val_loss: 0.6339 - val_accuracy: 0.6125\n",
            "Epoch 3/10\n",
            "20/20 [==============================] - 0s 16ms/step - loss: 0.6411 - accuracy: 0.5609 - val_loss: 0.6134 - val_accuracy: 0.6438\n",
            "Epoch 4/10\n",
            "20/20 [==============================] - 0s 12ms/step - loss: 0.6244 - accuracy: 0.6109 - val_loss: 0.5963 - val_accuracy: 0.6687\n",
            "Epoch 5/10\n",
            "20/20 [==============================] - 0s 13ms/step - loss: 0.6063 - accuracy: 0.6859 - val_loss: 0.5790 - val_accuracy: 0.6875\n",
            "Epoch 6/10\n",
            "20/20 [==============================] - 0s 22ms/step - loss: 0.5868 - accuracy: 0.7344 - val_loss: 0.5589 - val_accuracy: 0.7437\n",
            "Epoch 7/10\n",
            "20/20 [==============================] - 0s 15ms/step - loss: 0.5656 - accuracy: 0.7797 - val_loss: 0.5401 - val_accuracy: 0.8313\n",
            "Epoch 8/10\n",
            "20/20 [==============================] - 0s 19ms/step - loss: 0.5438 - accuracy: 0.8078 - val_loss: 0.5195 - val_accuracy: 0.8562\n",
            "Epoch 9/10\n",
            "20/20 [==============================] - 0s 14ms/step - loss: 0.5214 - accuracy: 0.8297 - val_loss: 0.4985 - val_accuracy: 0.8687\n",
            "Epoch 10/10\n",
            "20/20 [==============================] - 0s 10ms/step - loss: 0.4985 - accuracy: 0.8500 - val_loss: 0.4783 - val_accuracy: 0.8875\n",
            "7/7 [==============================] - 0s 11ms/step\n",
            "Test accuracy: 0.8750\n"
          ]
        }
      ],
      "source": [
        "import numpy as np\n",
        "import tensorflow as tf\n",
        "from tensorflow.keras.models import Sequential\n",
        "from tensorflow.keras.layers import Dense,Input\n",
        "from sklearn.model_selection import train_test_split\n",
        "from sklearn.metrics import accuracy_score\n",
        "np.random.seed(42)\n",
        "X = np.random.rand(1000, 2)\n",
        "y = (X[:, 0] + X[:, 1] > 1).astype(int)\n",
        "X_train, X_test, y_train, y_test = train_test_split(X, y, test_size=0.2,\n",
        "random_state=42)\n",
        "model = Sequential([Input(shape=(2)),Dense(64, activation='relu'),Dense(1,\n",
        "activation='sigmoid')])\n",
        "model.compile(optimizer='adam',loss='binary_crossentropy',metrics=['accuracy'])\n",
        "model.fit(X_train, y_train, epochs=10, batch_size=32, validation_split=0.2)\n",
        "y_pred = model.predict(X_test)\n",
        "y_pred_binary = (y_pred > 0.5).astype(int)\n",
        "test_accuracy = accuracy_score(y_test, y_pred_binary)\n",
        "print(f\"Test accuracy: {test_accuracy:.4f}\")"
      ]
    }
  ]
}